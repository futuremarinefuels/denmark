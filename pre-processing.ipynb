{
 "cells": [
  {
   "cell_type": "markdown",
   "metadata": {},
   "source": [
    "# Scenario Data Pre-Processing for Model Input"
   ]
  },
  {
   "cell_type": "markdown",
   "metadata": {},
   "source": [
    "## Description\n",
    "The following script processes the technology and scenario data to the required fromat and loads it to the danish ship models input folder.\n",
    "The user can chosse different cost variation in percentage. The precanteg variates the cost values of end 2050.\n",
    "Further the change in transport supply by ships, the methane and carbon emission factors con be alternated. In order to conduct the changes for scertain scenarios and technologies, the scenario data has to be modified. Cells containing a one will be subject to the variation, zeros not."
   ]
  },
  {
   "cell_type": "markdown",
   "metadata": {},
   "source": [
    "## Content\n",
    "- Script set-up\n",
    "- Parameter variation\n",
    "- Time resolution\n",
    "- Load data\n",
    "- Scenarios\n",
    "- Required directories\n",
    "- Join data\n",
    "- CH4 factor\n",
    "- Output\n",
    "- Scenario implementation\n",
    "- Time variant data\n",
    "- Regulations\n",
    "- Transport demand\n",
    "- Biofuels"
   ]
  },
  {
   "cell_type": "markdown",
   "metadata": {},
   "source": [
    "## Script Set-Up"
   ]
  },
  {
   "cell_type": "code",
   "execution_count": 1,
   "metadata": {},
   "outputs": [],
   "source": [
    "# Import of required packages\n",
    "import os\n",
    "import pandas as pd"
   ]
  },
  {
   "cell_type": "markdown",
   "metadata": {},
   "source": [
    "## Parameter Variation"
   ]
  },
  {
   "cell_type": "code",
   "execution_count": 2,
   "metadata": {},
   "outputs": [],
   "source": [
    "# One can choose a cost-variation percentage with -1 < r\n",
    "r = 0.99\n",
    "R = str(int(r*100))"
   ]
  },
  {
   "cell_type": "code",
   "execution_count": 3,
   "metadata": {},
   "outputs": [],
   "source": [
    "# Safety first\n",
    "if r > 1:\n",
    "    r /= 100"
   ]
  },
  {
   "cell_type": "code",
   "execution_count": 4,
   "metadata": {},
   "outputs": [],
   "source": [
    "# One can choose a methane emissions variation percentage with -1 < r\n",
    "em = -0.9995"
   ]
  },
  {
   "cell_type": "code",
   "execution_count": 5,
   "metadata": {},
   "outputs": [],
   "source": [
    "# One can choose a carbon emissions variation percentage with -1 < r\n",
    "ec = 0"
   ]
  },
  {
   "cell_type": "code",
   "execution_count": 6,
   "metadata": {},
   "outputs": [],
   "source": [
    "# One can choose a transport supply variation percentage with -1 < r\n",
    "ts = 0"
   ]
  },
  {
   "cell_type": "markdown",
   "metadata": {},
   "source": [
    "## Time Resolution\n",
    "Sets the time frame of the model with a given resolution.\n",
    "\n",
    "Resolution: Yearly"
   ]
  },
  {
   "cell_type": "code",
   "execution_count": 7,
   "metadata": {},
   "outputs": [
    {
     "name": "stdout",
     "output_type": "stream",
     "text": [
      "[2016, 2017, 2018, 2019, 2020, 2021, 2022, 2023, 2024, 2025, 2026, 2027, 2028, 2029, 2030, 2031, 2032, 2033, 2034, 2035, 2036, 2037, 2038, 2039, 2040, 2041, 2042, 2043, 2044, 2045, 2046, 2047, 2048, 2049, 2050, 2051]\n"
     ]
    }
   ],
   "source": [
    "# Create a set of time-steps from initial to last year with yearly steps (1 <= dt)\n",
    "dt = 1\n",
    "init_year = 2016\n",
    "last_year = 2051\n",
    "\n",
    "year = list(range(init_year, last_year + 1, dt))\n",
    "\n",
    "# Look at year set\n",
    "print(year)"
   ]
  },
  {
   "cell_type": "markdown",
   "metadata": {},
   "source": [
    "## Load Data"
   ]
  },
  {
   "cell_type": "code",
   "execution_count": 8,
   "metadata": {},
   "outputs": [],
   "source": [
    "# Load fuel data from csv\n",
    "fuel = pd.read_csv('data_tec/fuels/fuel_data.csv', encoding='utf8', index_col=0)"
   ]
  },
  {
   "cell_type": "code",
   "execution_count": 9,
   "metadata": {},
   "outputs": [],
   "source": [
    "# Load ship data from csv\n",
    "ship = pd.read_csv('data_tec/ships/ship_data.csv', encoding='utf8', index_col=0)"
   ]
  },
  {
   "cell_type": "code",
   "execution_count": 10,
   "metadata": {},
   "outputs": [],
   "source": [
    "# Load fuel specification variations between first and last year from csv\n",
    "fuel_rates = pd.read_csv('data_scn/fuel_rates.csv', encoding='utf8', index_col=[0, 1])"
   ]
  },
  {
   "cell_type": "code",
   "execution_count": 11,
   "metadata": {},
   "outputs": [],
   "source": [
    "# Load ship specification variations between first and last year from csv\n",
    "ship_rates = pd.read_csv('data_scn/ship_rates.csv', encoding='utf8', index_col=[0, 1])"
   ]
  },
  {
   "cell_type": "markdown",
   "metadata": {},
   "source": [
    "## Scenarios"
   ]
  },
  {
   "cell_type": "code",
   "execution_count": 12,
   "metadata": {},
   "outputs": [],
   "source": [
    "# Make list of all scenarios\n",
    "scn = list(fuel_rates.columns.unique())"
   ]
  },
  {
   "cell_type": "markdown",
   "metadata": {},
   "source": [
    "## Required Directories"
   ]
  },
  {
   "cell_type": "code",
   "execution_count": 13,
   "metadata": {},
   "outputs": [],
   "source": [
    "# Make required directories\n",
    "path = 'model_input/' + R + '/'\n",
    "for s in scn:\n",
    "    if not os.path.isdir(path + str(s)):\n",
    "        os.makedirs(path + str(s))"
   ]
  },
  {
   "cell_type": "markdown",
   "metadata": {},
   "source": [
    "## Join Data"
   ]
  },
  {
   "cell_type": "code",
   "execution_count": 14,
   "metadata": {},
   "outputs": [],
   "source": [
    "# Make a column with fuel type information for joining with the fuel data frame\n",
    "ship['fuel_type'] = ship.index.str.split('_').str[1]"
   ]
  },
  {
   "cell_type": "code",
   "execution_count": 15,
   "metadata": {},
   "outputs": [],
   "source": [
    "# Join ship and fuel data frames\n",
    "ship = ship.join(fuel, on=ship.fuel_type)"
   ]
  },
  {
   "cell_type": "code",
   "execution_count": 16,
   "metadata": {},
   "outputs": [],
   "source": [
    "# Make a column to combine the w2t and t2p co2 emissions\n",
    "ship['ef-co2-w2p_g-MJ'] = ship['ef-co2-w2t_g-MJ'] + ship['ef-co2-t2p_g-MJ']"
   ]
  },
  {
   "cell_type": "code",
   "execution_count": 17,
   "metadata": {},
   "outputs": [],
   "source": [
    "# Make a column to combine the w2t and t2p ch4 emissions\n",
    "ship['ef-ch4-w2p_g-MJ'] = ship['ef-ch4-w2t_g-MJ'] + ship['ef-ch4-t2p_g-MJ']"
   ]
  },
  {
   "cell_type": "markdown",
   "metadata": {},
   "source": [
    "## CH4 Factor\n",
    "The 100 year green hous gas potential of methane compared to carbon dioxide, as used by the IPCC.\n",
    "\n",
    "Source: https://www.ipcc.ch/publications_and_data/ar4/wg1/en/ch2s2-10-2.html"
   ]
  },
  {
   "cell_type": "code",
   "execution_count": 18,
   "metadata": {},
   "outputs": [],
   "source": [
    "# Apply the ch4 emissions factor\n",
    "ef_ch4 = 25\n",
    "ship['ef-ch4-w2p_g-MJ'] *= ef_ch4"
   ]
  },
  {
   "cell_type": "markdown",
   "metadata": {},
   "source": [
    "## Output"
   ]
  },
  {
   "cell_type": "code",
   "execution_count": 19,
   "metadata": {},
   "outputs": [],
   "source": [
    "# Write joined dataframe to csv\n",
    "for s in scn:\n",
    "    ship.to_csv(path + s + '/ship_data.csv', encoding='utf8')"
   ]
  },
  {
   "cell_type": "markdown",
   "metadata": {},
   "source": [
    "## Scenario Implementation"
   ]
  },
  {
   "cell_type": "code",
   "execution_count": 20,
   "metadata": {},
   "outputs": [],
   "source": [
    "# Sum reference scenario and the scenario variations\n",
    "for i in fuel_rates.columns[fuel_rates.columns!='rs']:\n",
    "    fuel_rates[i] = fuel_rates[i] * ((1 + fuel_rates.rs) * r) + fuel_rates.rs    "
   ]
  },
  {
   "cell_type": "code",
   "execution_count": 21,
   "metadata": {},
   "outputs": [],
   "source": [
    "# Sum reference scenario and the scenario variations\n",
    "for i in ship_rates.columns[ship_rates.columns!='rs']:\n",
    "    for j in ship_rates.index:\n",
    "        if j[0] == 'cs': x = r\n",
    "        if j[0] == 'ef-co2-w2p': x = ec\n",
    "        if j[0] == 'ef-ch4-w2p': x = em\n",
    "        if j[0] == 'ts': x = ts\n",
    "        ship_rates.loc[j, i] = ship_rates.loc[j, i] * ((1 + ship_rates.loc[j, 'rs']) * x) + ship_rates.loc[j, 'rs']"
   ]
  },
  {
   "cell_type": "code",
   "execution_count": 22,
   "metadata": {},
   "outputs": [],
   "source": [
    "# Make a data frame template for time-variant parameters with years as indices and ship types as columns\n",
    "tvdf = pd.DataFrame(columns=ship.index,\n",
    "                    index=year)"
   ]
  },
  {
   "cell_type": "code",
   "execution_count": 23,
   "metadata": {},
   "outputs": [],
   "source": [
    "# Create time variant dataframes from fuel_rates\n",
    "for s in scn:\n",
    "    for i in fuel_rates.index.levels[0]:\n",
    "        for y in year:\n",
    "            tvdf.loc[y] = ship[ship.columns[ship.columns.str.contains(str(i))][0]]\n",
    "        for j in ship.index:\n",
    "            f = j.split('_')[1]\n",
    "            x = fuel_rates[s].unstack().loc[str(i), str(f)]\n",
    "            # Calculate annual changing rate\n",
    "            x = (1 + x) ** (1 / (len(year) - 1)) - 1\n",
    "            if x != 0:\n",
    "                tvdf[str(j)] *= ((1 + x) ** (tvdf.index - year[0]))\n",
    "        # Write time variant dataframe to csv\n",
    "        tvdf.to_csv(path + s + '/{}.csv'.format(i), encoding='utf8')"
   ]
  },
  {
   "cell_type": "code",
   "execution_count": 24,
   "metadata": {},
   "outputs": [],
   "source": [
    "# Create time variant dataframes from ship_rates\n",
    "for s in scn:\n",
    "    for i in ship_rates.index.levels[0]:\n",
    "        for y in year:\n",
    "            tvdf.loc[y] = ship[ship.columns[ship.columns.str.contains(str(i))][0]]\n",
    "        for j in ship.index:\n",
    "            x = ship_rates[s].unstack().loc[str(i), str(j)]\n",
    "            # Calculate annual changing rate\n",
    "            x = (1 + x) ** (1 / (len(year) - 1)) - 1\n",
    "            if x != 0:\n",
    "                tvdf[str(j)] *= ((1 + x) ** (tvdf.index - year[0]))\n",
    "        # Write time variant dataframe to csv\n",
    "        tvdf.to_csv(path + s + '/{}.csv'.format(i), encoding='utf8')"
   ]
  },
  {
   "cell_type": "markdown",
   "metadata": {},
   "source": [
    "## Regulations"
   ]
  },
  {
   "cell_type": "code",
   "execution_count": 26,
   "metadata": {},
   "outputs": [],
   "source": [
    "# Load regulation data from csv\n",
    "reg = pd.read_csv('data_scn/regulations.csv', encoding='utf8', index_col=0)"
   ]
  },
  {
   "cell_type": "code",
   "execution_count": 27,
   "metadata": {},
   "outputs": [],
   "source": [
    "# Sum best estimate and the scenario variations\n",
    "for i in reg.columns[reg.columns!='rs']:\n",
    "    reg[i] += reg.rs"
   ]
  },
  {
   "cell_type": "code",
   "execution_count": 28,
   "metadata": {},
   "outputs": [],
   "source": [
    "# Write regulation data as csv to model input folder\n",
    "for s in scn:\n",
    "    scn_regs = pd.DataFrame(reg[s])\n",
    "    scn_regs.to_csv(path + s + '/regs.csv', encoding='utf8')"
   ]
  },
  {
   "cell_type": "markdown",
   "metadata": {},
   "source": [
    "## Transport Demand"
   ]
  },
  {
   "cell_type": "code",
   "execution_count": 33,
   "metadata": {},
   "outputs": [
    {
     "data": {
      "text/html": [
       "<div>\n",
       "<style scoped>\n",
       "    .dataframe tbody tr th:only-of-type {\n",
       "        vertical-align: middle;\n",
       "    }\n",
       "\n",
       "    .dataframe tbody tr th {\n",
       "        vertical-align: top;\n",
       "    }\n",
       "\n",
       "    .dataframe thead th {\n",
       "        text-align: right;\n",
       "    }\n",
       "</style>\n",
       "<table border=\"1\" class=\"dataframe\">\n",
       "  <thead>\n",
       "    <tr style=\"text-align: right;\">\n",
       "      <th></th>\n",
       "      <th>range</th>\n",
       "      <th>ls_yr</th>\n",
       "      <th>fa_PJ</th>\n",
       "      <th>ts_Ttkm-MJ</th>\n",
       "      <th>cs_€-MJ</th>\n",
       "      <th>ef-co2-t2p_g-MJ</th>\n",
       "      <th>ef-ch4-t2p_g-MJ</th>\n",
       "      <th>refit</th>\n",
       "      <th>refit_option</th>\n",
       "      <th>tier_level</th>\n",
       "      <th>...</th>\n",
       "      <th>ci_€-MJ</th>\n",
       "      <th>ef-co2-w2t_g-MJ</th>\n",
       "      <th>ef-ch4-w2t_g-MJ</th>\n",
       "      <th>sox_g-g</th>\n",
       "      <th>li_yr</th>\n",
       "      <th>ef-co2-w2p_g-MJ</th>\n",
       "      <th>ef-ch4-w2p_g-MJ</th>\n",
       "      <th>td_total_Ttkm</th>\n",
       "      <th>td_short_Ttkm</th>\n",
       "      <th>td_noneca_Ttkm</th>\n",
       "    </tr>\n",
       "  </thead>\n",
       "  <tbody>\n",
       "    <tr>\n",
       "      <th>ic_hfo_old</th>\n",
       "      <td>long</td>\n",
       "      <td>11</td>\n",
       "      <td>9.925388</td>\n",
       "      <td>0.009686</td>\n",
       "      <td>0.008717</td>\n",
       "      <td>76.056700</td>\n",
       "      <td>0.00045</td>\n",
       "      <td>yes</td>\n",
       "      <td>ic_hfo_rf</td>\n",
       "      <td>0</td>\n",
       "      <td>...</td>\n",
       "      <td>0.0</td>\n",
       "      <td>8.148148</td>\n",
       "      <td>0.09</td>\n",
       "      <td>0.029524</td>\n",
       "      <td>40</td>\n",
       "      <td>84.204848</td>\n",
       "      <td>2.26125</td>\n",
       "      <td>0.152501</td>\n",
       "      <td>0.020093</td>\n",
       "      <td>0.096137</td>\n",
       "    </tr>\n",
       "    <tr>\n",
       "      <th>ic_mdo_old</th>\n",
       "      <td>long</td>\n",
       "      <td>11</td>\n",
       "      <td>5.993756</td>\n",
       "      <td>0.009404</td>\n",
       "      <td>0.008454</td>\n",
       "      <td>74.361866</td>\n",
       "      <td>0.00045</td>\n",
       "      <td>yes</td>\n",
       "      <td>ic_bdo_rf</td>\n",
       "      <td>0</td>\n",
       "      <td>...</td>\n",
       "      <td>0.0</td>\n",
       "      <td>7.728337</td>\n",
       "      <td>0.09</td>\n",
       "      <td>0.007500</td>\n",
       "      <td>40</td>\n",
       "      <td>82.090203</td>\n",
       "      <td>2.26125</td>\n",
       "      <td>0.152501</td>\n",
       "      <td>0.020093</td>\n",
       "      <td>0.096137</td>\n",
       "    </tr>\n",
       "    <tr>\n",
       "      <th>ic_hfo</th>\n",
       "      <td>long</td>\n",
       "      <td>25</td>\n",
       "      <td>0.000000</td>\n",
       "      <td>0.009400</td>\n",
       "      <td>0.008454</td>\n",
       "      <td>75.899068</td>\n",
       "      <td>0.00045</td>\n",
       "      <td>no</td>\n",
       "      <td>NaN</td>\n",
       "      <td>3</td>\n",
       "      <td>...</td>\n",
       "      <td>0.0</td>\n",
       "      <td>8.148148</td>\n",
       "      <td>0.09</td>\n",
       "      <td>0.029524</td>\n",
       "      <td>40</td>\n",
       "      <td>84.047216</td>\n",
       "      <td>2.26125</td>\n",
       "      <td>0.152501</td>\n",
       "      <td>0.020093</td>\n",
       "      <td>0.096137</td>\n",
       "    </tr>\n",
       "    <tr>\n",
       "      <th>ic_mdo</th>\n",
       "      <td>long</td>\n",
       "      <td>25</td>\n",
       "      <td>0.000000</td>\n",
       "      <td>0.009400</td>\n",
       "      <td>0.008454</td>\n",
       "      <td>74.317164</td>\n",
       "      <td>0.00045</td>\n",
       "      <td>no</td>\n",
       "      <td>NaN</td>\n",
       "      <td>3</td>\n",
       "      <td>...</td>\n",
       "      <td>0.0</td>\n",
       "      <td>7.728337</td>\n",
       "      <td>0.09</td>\n",
       "      <td>0.007500</td>\n",
       "      <td>40</td>\n",
       "      <td>82.045501</td>\n",
       "      <td>2.26125</td>\n",
       "      <td>0.152501</td>\n",
       "      <td>0.020093</td>\n",
       "      <td>0.096137</td>\n",
       "    </tr>\n",
       "    <tr>\n",
       "      <th>ic_hfo_rf</th>\n",
       "      <td>long</td>\n",
       "      <td>11</td>\n",
       "      <td>0.000000</td>\n",
       "      <td>0.009400</td>\n",
       "      <td>0.000017</td>\n",
       "      <td>75.899068</td>\n",
       "      <td>0.00045</td>\n",
       "      <td>no</td>\n",
       "      <td>NaN</td>\n",
       "      <td>3</td>\n",
       "      <td>...</td>\n",
       "      <td>0.0</td>\n",
       "      <td>8.148148</td>\n",
       "      <td>0.09</td>\n",
       "      <td>0.029524</td>\n",
       "      <td>40</td>\n",
       "      <td>84.047216</td>\n",
       "      <td>2.26125</td>\n",
       "      <td>0.152501</td>\n",
       "      <td>0.020093</td>\n",
       "      <td>0.096137</td>\n",
       "    </tr>\n",
       "  </tbody>\n",
       "</table>\n",
       "<p>5 rows × 23 columns</p>\n",
       "</div>"
      ],
      "text/plain": [
       "           range  ls_yr     fa_PJ  ts_Ttkm-MJ   cs_€-MJ  ef-co2-t2p_g-MJ  \\\n",
       "ic_hfo_old  long     11  9.925388    0.009686  0.008717        76.056700   \n",
       "ic_mdo_old  long     11  5.993756    0.009404  0.008454        74.361866   \n",
       "ic_hfo      long     25  0.000000    0.009400  0.008454        75.899068   \n",
       "ic_mdo      long     25  0.000000    0.009400  0.008454        74.317164   \n",
       "ic_hfo_rf   long     11  0.000000    0.009400  0.000017        75.899068   \n",
       "\n",
       "            ef-ch4-t2p_g-MJ refit refit_option  tier_level  ... ci_€-MJ  \\\n",
       "ic_hfo_old          0.00045   yes    ic_hfo_rf           0  ...     0.0   \n",
       "ic_mdo_old          0.00045   yes    ic_bdo_rf           0  ...     0.0   \n",
       "ic_hfo              0.00045    no          NaN           3  ...     0.0   \n",
       "ic_mdo              0.00045    no          NaN           3  ...     0.0   \n",
       "ic_hfo_rf           0.00045    no          NaN           3  ...     0.0   \n",
       "\n",
       "           ef-co2-w2t_g-MJ  ef-ch4-w2t_g-MJ   sox_g-g  li_yr  ef-co2-w2p_g-MJ  \\\n",
       "ic_hfo_old        8.148148             0.09  0.029524     40        84.204848   \n",
       "ic_mdo_old        7.728337             0.09  0.007500     40        82.090203   \n",
       "ic_hfo            8.148148             0.09  0.029524     40        84.047216   \n",
       "ic_mdo            7.728337             0.09  0.007500     40        82.045501   \n",
       "ic_hfo_rf         8.148148             0.09  0.029524     40        84.047216   \n",
       "\n",
       "            ef-ch4-w2p_g-MJ  td_total_Ttkm  td_short_Ttkm  td_noneca_Ttkm  \n",
       "ic_hfo_old          2.26125       0.152501       0.020093        0.096137  \n",
       "ic_mdo_old          2.26125       0.152501       0.020093        0.096137  \n",
       "ic_hfo              2.26125       0.152501       0.020093        0.096137  \n",
       "ic_mdo              2.26125       0.152501       0.020093        0.096137  \n",
       "ic_hfo_rf           2.26125       0.152501       0.020093        0.096137  \n",
       "\n",
       "[5 rows x 23 columns]"
      ]
     },
     "execution_count": 33,
     "metadata": {},
     "output_type": "execute_result"
    }
   ],
   "source": [
    "ship.head()"
   ]
  },
  {
   "cell_type": "code",
   "execution_count": 34,
   "metadata": {},
   "outputs": [],
   "source": [
    "# Calculate the initial transport demand for long and short ranges (according to the shipping stock script)\n",
    "ship['td_total_Ttkm'] = 0.056363616136 + 0.09613698339899997\n",
    "ship['td_short_Ttkm'] = 0.0200927184\n",
    "ship['td_noneca_Ttkm'] = 0.09613698339899997"
   ]
  },
  {
   "cell_type": "code",
   "execution_count": 51,
   "metadata": {
    "scrolled": true
   },
   "outputs": [],
   "source": [
    "# Make a data frame for the transport demand in each year\n",
    "tvdf = pd.DataFrame(columns=['td_total_Ttkm', 'td_short_Ttkm', 'td_noneca_Ttkm'], index=year)"
   ]
  },
  {
   "cell_type": "code",
   "execution_count": 53,
   "metadata": {},
   "outputs": [],
   "source": [
    "# Write time variant dataframe to csv\n",
    "for s in scn:\n",
    "    for i in tvdf.columns:\n",
    "        r = reg[s].td_change\n",
    "        for y in year:\n",
    "            tvdf.loc[y, str(i)] = ship[i].mean()\n",
    "        # Calculate annual changing rate\n",
    "        r = (1 + r) ** (1 / (len(year) - 1)) - 1\n",
    "        if r != 0:\n",
    "            tvdf[i] *= ((1 + r) ** (tvdf.index - year[0]))\n",
    "    tvdf.to_csv(path + s + '/td.csv', encoding='utf8')"
   ]
  },
  {
   "cell_type": "markdown",
   "metadata": {},
   "source": [
    "## Biofuel Availability"
   ]
  },
  {
   "cell_type": "code",
   "execution_count": 54,
   "metadata": {
    "scrolled": true
   },
   "outputs": [],
   "source": [
    "# Make a data frame for the biofuel availability in each year\n",
    "tvdf = pd.DataFrame(columns=['ba_PJ'], index=year)"
   ]
  },
  {
   "cell_type": "code",
   "execution_count": 55,
   "metadata": {},
   "outputs": [
    {
     "name": "stderr",
     "output_type": "stream",
     "text": [
      "C:\\Users\\till\\AppData\\Local\\Temp\\ipykernel_18656\\1571480236.py:8: FutureWarning: In a future version, `df.iloc[:, i] = newvals` will attempt to set the values inplace instead of always setting a new array. To retain the old behavior, use either `df[df.columns[i]] = newvals` or, if columns are non-unique, `df.isetitem(i, newvals)`\n",
      "  tvdf.loc[:, 'ba_PJ'] = ba_init + x * ((tvdf.index - year[0]) ** 2) / 2\n"
     ]
    }
   ],
   "source": [
    "# Calculate the biofuel availability for first and last year\n",
    "for s in scn:\n",
    "    ba_init = ship.fa_PJ.sum() * reg[s].ba_init\n",
    "    ba_last = ship.fa_PJ.sum() * reg[s].ba_last\n",
    "\n",
    "    # Calculate the annual additional changing rate (1st derivitive of resulting ba curve)\n",
    "    x = (2 * (ba_last - ba_init)) / ((len(year) - 1) ** 2)\n",
    "    tvdf.loc[:, 'ba_PJ'] = ba_init + x * ((tvdf.index - year[0]) ** 2) / 2\n",
    "\n",
    "    # Write time variant dataframe to csv\n",
    "    tvdf.to_csv(path + s + '/ba.csv', encoding='utf8')"
   ]
  }
 ],
 "metadata": {
  "kernelspec": {
   "display_name": "Python 3 (ipykernel)",
   "language": "python",
   "name": "python3"
  },
  "language_info": {
   "codemirror_mode": {
    "name": "ipython",
    "version": 3
   },
   "file_extension": ".py",
   "mimetype": "text/x-python",
   "name": "python",
   "nbconvert_exporter": "python",
   "pygments_lexer": "ipython3",
   "version": "3.9.15"
  }
 },
 "nbformat": 4,
 "nbformat_minor": 2
}
